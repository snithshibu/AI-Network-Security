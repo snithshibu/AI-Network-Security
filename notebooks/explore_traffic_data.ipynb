{
 "cells": [
  {
   "cell_type": "code",
   "execution_count": 1,
   "id": "ed5e1194",
   "metadata": {},
   "outputs": [
    {
     "name": "stdout",
     "output_type": "stream",
     "text": [
      "Note: you may need to restart the kernel to use updated packages.Defaulting to user installation because normal site-packages is not writeable\n",
      "Requirement already satisfied: pandas in c:\\users\\asus\\appdata\\local\\packages\\pythonsoftwarefoundation.python.3.12_qbz5n2kfra8p0\\localcache\\local-packages\\python312\\site-packages (2.2.3)\n",
      "Requirement already satisfied: numpy>=1.26.0 in c:\\users\\asus\\appdata\\local\\packages\\pythonsoftwarefoundation.python.3.12_qbz5n2kfra8p0\\localcache\\local-packages\\python312\\site-packages (from pandas) (2.2.0)\n",
      "Requirement already satisfied: python-dateutil>=2.8.2 in c:\\users\\asus\\appdata\\local\\packages\\pythonsoftwarefoundation.python.3.12_qbz5n2kfra8p0\\localcache\\local-packages\\python312\\site-packages (from pandas) (2.9.0.post0)\n",
      "Requirement already satisfied: pytz>=2020.1 in c:\\users\\asus\\appdata\\local\\packages\\pythonsoftwarefoundation.python.3.12_qbz5n2kfra8p0\\localcache\\local-packages\\python312\\site-packages (from pandas) (2024.2)\n",
      "Requirement already satisfied: tzdata>=2022.7 in c:\\users\\asus\\appdata\\local\\packages\\pythonsoftwarefoundation.python.3.12_qbz5n2kfra8p0\\localcache\\local-packages\\python312\\site-packages (from pandas) (2024.2)\n",
      "Requirement already satisfied: six>=1.5 in c:\\users\\asus\\appdata\\local\\packages\\pythonsoftwarefoundation.python.3.12_qbz5n2kfra8p0\\localcache\\local-packages\\python312\\site-packages (from python-dateutil>=2.8.2->pandas) (1.16.0)\n",
      "\n"
     ]
    },
    {
     "name": "stderr",
     "output_type": "stream",
     "text": [
      "\n",
      "[notice] A new release of pip is available: 25.0.1 -> 25.1.1\n",
      "[notice] To update, run: C:\\Users\\Asus\\AppData\\Local\\Microsoft\\WindowsApps\\PythonSoftwareFoundation.Python.3.12_qbz5n2kfra8p0\\python.exe -m pip install --upgrade pip\n"
     ]
    }
   ],
   "source": [
    "pip install pandas"
   ]
  },
  {
   "cell_type": "code",
   "execution_count": 2,
   "id": "00945be9",
   "metadata": {},
   "outputs": [
    {
     "name": "stdout",
     "output_type": "stream",
     "text": [
      "Shape of dataset: (3577296, 87)\n",
      "\n",
      "Column names:\n",
      " ['Flow.ID', 'Source.IP', 'Source.Port', 'Destination.IP', 'Destination.Port', 'Protocol', 'Timestamp', 'Flow.Duration', 'Total.Fwd.Packets', 'Total.Backward.Packets', 'Total.Length.of.Fwd.Packets', 'Total.Length.of.Bwd.Packets', 'Fwd.Packet.Length.Max', 'Fwd.Packet.Length.Min', 'Fwd.Packet.Length.Mean', 'Fwd.Packet.Length.Std', 'Bwd.Packet.Length.Max', 'Bwd.Packet.Length.Min', 'Bwd.Packet.Length.Mean', 'Bwd.Packet.Length.Std', 'Flow.Bytes.s', 'Flow.Packets.s', 'Flow.IAT.Mean', 'Flow.IAT.Std', 'Flow.IAT.Max', 'Flow.IAT.Min', 'Fwd.IAT.Total', 'Fwd.IAT.Mean', 'Fwd.IAT.Std', 'Fwd.IAT.Max', 'Fwd.IAT.Min', 'Bwd.IAT.Total', 'Bwd.IAT.Mean', 'Bwd.IAT.Std', 'Bwd.IAT.Max', 'Bwd.IAT.Min', 'Fwd.PSH.Flags', 'Bwd.PSH.Flags', 'Fwd.URG.Flags', 'Bwd.URG.Flags', 'Fwd.Header.Length', 'Bwd.Header.Length', 'Fwd.Packets.s', 'Bwd.Packets.s', 'Min.Packet.Length', 'Max.Packet.Length', 'Packet.Length.Mean', 'Packet.Length.Std', 'Packet.Length.Variance', 'FIN.Flag.Count', 'SYN.Flag.Count', 'RST.Flag.Count', 'PSH.Flag.Count', 'ACK.Flag.Count', 'URG.Flag.Count', 'CWE.Flag.Count', 'ECE.Flag.Count', 'Down.Up.Ratio', 'Average.Packet.Size', 'Avg.Fwd.Segment.Size', 'Avg.Bwd.Segment.Size', 'Fwd.Header.Length.1', 'Fwd.Avg.Bytes.Bulk', 'Fwd.Avg.Packets.Bulk', 'Fwd.Avg.Bulk.Rate', 'Bwd.Avg.Bytes.Bulk', 'Bwd.Avg.Packets.Bulk', 'Bwd.Avg.Bulk.Rate', 'Subflow.Fwd.Packets', 'Subflow.Fwd.Bytes', 'Subflow.Bwd.Packets', 'Subflow.Bwd.Bytes', 'Init_Win_bytes_forward', 'Init_Win_bytes_backward', 'act_data_pkt_fwd', 'min_seg_size_forward', 'Active.Mean', 'Active.Std', 'Active.Max', 'Active.Min', 'Idle.Mean', 'Idle.Std', 'Idle.Max', 'Idle.Min', 'Label', 'L7Protocol', 'ProtocolName']\n",
      "\n",
      "First few rows:\n",
      "                                  Flow.ID      Source.IP  Source.Port  \\\n",
      "0    172.19.1.46-10.200.7.7-52422-3128-6    172.19.1.46        52422   \n",
      "1    172.19.1.46-10.200.7.7-52422-3128-6     10.200.7.7         3128   \n",
      "2   10.200.7.217-50.31.185.39-38848-80-6   50.31.185.39           80   \n",
      "3   10.200.7.217-50.31.185.39-38848-80-6   50.31.185.39           80   \n",
      "4  192.168.72.43-10.200.7.7-55961-3128-6  192.168.72.43        55961   \n",
      "\n",
      "  Destination.IP  Destination.Port  Protocol           Timestamp  \\\n",
      "0     10.200.7.7              3128         6  26/04/201711:11:17   \n",
      "1    172.19.1.46             52422         6  26/04/201711:11:17   \n",
      "2   10.200.7.217             38848         6  26/04/201711:11:17   \n",
      "3   10.200.7.217             38848         6  26/04/201711:11:17   \n",
      "4     10.200.7.7              3128         6  26/04/201711:11:17   \n",
      "\n",
      "   Flow.Duration  Total.Fwd.Packets  Total.Backward.Packets  ...  Active.Std  \\\n",
      "0          45523                 22                      55  ...         0.0   \n",
      "1              1                  2                       0  ...         0.0   \n",
      "2              1                  3                       0  ...         0.0   \n",
      "3            217                  1                       3  ...         0.0   \n",
      "4          78068                  5                       0  ...         0.0   \n",
      "\n",
      "   Active.Max  Active.Min  Idle.Mean  Idle.Std  Idle.Max  Idle.Min   Label  \\\n",
      "0         0.0         0.0        0.0       0.0       0.0       0.0  BENIGN   \n",
      "1         0.0         0.0        0.0       0.0       0.0       0.0  BENIGN   \n",
      "2         0.0         0.0        0.0       0.0       0.0       0.0  BENIGN   \n",
      "3         0.0         0.0        0.0       0.0       0.0       0.0  BENIGN   \n",
      "4         0.0         0.0        0.0       0.0       0.0       0.0  BENIGN   \n",
      "\n",
      "   L7Protocol  ProtocolName  \n",
      "0         131    HTTP_PROXY  \n",
      "1         131    HTTP_PROXY  \n",
      "2           7          HTTP  \n",
      "3           7          HTTP  \n",
      "4         131    HTTP_PROXY  \n",
      "\n",
      "[5 rows x 87 columns]\n",
      "\n",
      "Top 10 apps by frequency:\n",
      " ProtocolName\n",
      "GOOGLE            959110\n",
      "HTTP              683734\n",
      "HTTP_PROXY        623210\n",
      "SSL               404883\n",
      "HTTP_CONNECT      317526\n",
      "YOUTUBE           170781\n",
      "AMAZON             86875\n",
      "MICROSOFT          54710\n",
      "GMAIL              40260\n",
      "WINDOWS_UPDATE     34471\n",
      "Name: count, dtype: int64\n"
     ]
    }
   ],
   "source": [
    "import pandas as pd\n",
    "\n",
    "# Load the dataset\n",
    "df = pd.read_csv(\"../data.csv\")\n",
    "\n",
    "# Basic info\n",
    "print(\"Shape of dataset:\", df.shape)\n",
    "print(\"\\nColumn names:\\n\", df.columns.tolist())\n",
    "\n",
    "# Show the first few rows\n",
    "print(\"\\nFirst few rows:\\n\", df.head())\n",
    "\n",
    "# Show top 10 app labels (app types)\n",
    "print(\"\\nTop 10 apps by frequency:\\n\", df['ProtocolName'].value_counts().head(10))\n"
   ]
  }
 ],
 "metadata": {
  "kernelspec": {
   "display_name": "Python 3",
   "language": "python",
   "name": "python3"
  },
  "language_info": {
   "codemirror_mode": {
    "name": "ipython",
    "version": 3
   },
   "file_extension": ".py",
   "mimetype": "text/x-python",
   "name": "python",
   "nbconvert_exporter": "python",
   "pygments_lexer": "ipython3",
   "version": "3.12.10"
  }
 },
 "nbformat": 4,
 "nbformat_minor": 5
}
